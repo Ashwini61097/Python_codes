{
  "nbformat": 4,
  "nbformat_minor": 0,
  "metadata": {
    "colab": {
      "provenance": []
    },
    "kernelspec": {
      "name": "python3",
      "display_name": "Python 3"
    },
    "language_info": {
      "name": "python"
    }
  },
  "cells": [
    {
      "cell_type": "markdown",
      "source": [
        "# **Task**:\n",
        "\n",
        "You are given two arrays A and B. Both have dimensions of N X N.\n",
        "Your task is to compute their matrix product."
      ],
      "metadata": {
        "id": "V_EJJJvaT-9k"
      }
    },
    {
      "cell_type": "code",
      "source": [
        "import numpy \n",
        "\n",
        "N = int(input())\n",
        "\n",
        "A = numpy.array([input().strip().split() for _ in range(N)], int)\n",
        "B = numpy.array([input().strip().split() for _ in range(N)], int)\n",
        "\n",
        "print(\"Dot Product: \")\n",
        "print(numpy.dot(A, B))\n",
        "\n",
        "print(\"Cross product: \")\n",
        "print(numpy.cross(A, B))"
      ],
      "metadata": {
        "colab": {
          "base_uri": "https://localhost:8080/"
        },
        "id": "VQ4yNl8uUg3v",
        "outputId": "a96dbb46-49df-4c31-aef3-8da2f2ed21d9"
      },
      "execution_count": 2,
      "outputs": [
        {
          "output_type": "stream",
          "name": "stdout",
          "text": [
            "2\n",
            "1 2\n",
            "3 4\n",
            "1 2\n",
            "3 4\n",
            "Dot Product: \n",
            "[[ 7 10]\n",
            " [15 22]]\n",
            "Cross product: \n",
            "[0 0]\n"
          ]
        }
      ]
    }
  ]
}