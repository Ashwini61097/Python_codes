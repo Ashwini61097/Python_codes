{
  "nbformat": 4,
  "nbformat_minor": 0,
  "metadata": {
    "colab": {
      "provenance": []
    },
    "kernelspec": {
      "name": "python3",
      "display_name": "Python 3"
    },
    "language_info": {
      "name": "python"
    }
  },
  "cells": [
    {
      "cell_type": "markdown",
      "source": [
        "Task: \n",
        "\n",
        "Read a string, S, and print its integer value; if  S cannot be converted to an integer, print Bad String.\n",
        "\n"
      ],
      "metadata": {
        "id": "ONokbm_B_dly"
      }
    },
    {
      "cell_type": "code",
      "source": [
        "#!/bin/python3\n",
        "\n",
        "import math\n",
        "import os\n",
        "import random\n",
        "import re\n",
        "import sys\n",
        "\n",
        "\n",
        "if __name__ == '__main__':\n",
        "    S = input().strip()\n",
        "\n",
        "    try:\n",
        "        S = int(S)\n",
        "        print(type(S))\n",
        "    except ValueError:\n",
        "        print('Bad String')"
      ],
      "metadata": {
        "colab": {
          "base_uri": "https://localhost:8080/"
        },
        "id": "t5pJmj3wA9ql",
        "outputId": "1537b107-7534-45cf-9fa1-d68587f6bc90"
      },
      "execution_count": 9,
      "outputs": [
        {
          "output_type": "stream",
          "name": "stdout",
          "text": [
            "hr\n",
            "Bad String\n"
          ]
        }
      ]
    }
  ]
}