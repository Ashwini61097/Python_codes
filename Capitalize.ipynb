{
  "nbformat": 4,
  "nbformat_minor": 0,
  "metadata": {
    "colab": {
      "provenance": []
    },
    "kernelspec": {
      "name": "python3",
      "display_name": "Python 3"
    },
    "language_info": {
      "name": "python"
    }
  },
  "cells": [
    {
      "cell_type": "code",
      "source": [
        "# Complete the solve function below.\n",
        "def solve(s):\n",
        "    if(0 < len(s) < 1000):\n",
        "        x = s.split(\" \")\n",
        "        #print(x)\n",
        "    y = []\n",
        "    for i in x:\n",
        "      if type(i) == str:\n",
        "        j = i.capitalize()\n",
        "        y.append(j)\n",
        "        y.append(\" \")\n",
        "      else:\n",
        "        y.append(i)\n",
        "    str1 =''\n",
        "    ans = str1.join(y)\n",
        "    return ans\n",
        "    \n",
        "s = input()\n",
        "result = solve(s)\n",
        "print(f'result is: {result}')\n",
        "#print(len(s))\n",
        "#print(len(result))"
      ],
      "metadata": {
        "id": "E8lPgTX55n2e"
      },
      "execution_count": null,
      "outputs": []
    }
  ]
}