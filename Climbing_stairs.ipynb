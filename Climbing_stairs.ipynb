{
  "nbformat": 4,
  "nbformat_minor": 0,
  "metadata": {
    "colab": {
      "provenance": []
    },
    "kernelspec": {
      "name": "python3",
      "display_name": "Python 3"
    },
    "language_info": {
      "name": "python"
    }
  },
  "cells": [
    {
      "cell_type": "code",
      "execution_count": 1,
      "metadata": {
        "id": "PFiTJir1bQcU",
        "colab": {
          "base_uri": "https://localhost:8080/"
        },
        "outputId": "61a27330-5e96-4250-b6ae-508e6c57c21e"
      },
      "outputs": [
        {
          "output_type": "stream",
          "name": "stdout",
          "text": [
            "Enter the number of steps: 2\n",
            "No. of ways steps can be climbed: 2\n"
          ]
        }
      ],
      "source": [
        "# Fibonacci Series\n",
        "def fibonacci(n):\n",
        "\t\n",
        "\t# Taking 1st two fibonacci numbers as 0 and 1\n",
        "\tf = [0, 1]\n",
        "\n",
        "\tfor i in range(2, n+1):\n",
        "\t\tf.append(f[i-1] + f[i-2])\n",
        "\treturn f\n",
        "\n",
        "f = fibonacci(45)\n",
        "#print(f)\n",
        "n = int(input(\"Enter the number of steps: \"))\n",
        "\n",
        "if(n>=1 and n <=45):\n",
        "  if(n==1):\n",
        "    steps = 1\n",
        "  else:\n",
        "    steps = f[n] + f[n-1]\n",
        "else:\n",
        "  print(\"Invalid input\")\n",
        "\n",
        "print(f\"No. of ways steps can be climbed: {steps}\")\n"
      ]
    },
    {
      "cell_type": "code",
      "source": [],
      "metadata": {
        "id": "qBaZoCU8ik4R"
      },
      "execution_count": null,
      "outputs": []
    }
  ]
}