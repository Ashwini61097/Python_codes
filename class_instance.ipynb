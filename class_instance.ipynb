{
  "nbformat": 4,
  "nbformat_minor": 0,
  "metadata": {
    "colab": {
      "provenance": []
    },
    "kernelspec": {
      "name": "python3",
      "display_name": "Python 3"
    },
    "language_info": {
      "name": "python"
    }
  },
  "cells": [
    {
      "cell_type": "code",
      "source": [
        "class Person:\n",
        "    def __init__(self,initialAge):\n",
        "        # Add some more code to run some checks on initialAge\n",
        "        if(initialAge > 0):\n",
        "            self.age = initialAge\n",
        "            \n",
        "        else:\n",
        "            self.age = initialAge\n",
        "            print(\"Age is not valid, setting age to 0.\")\n",
        "\n",
        "    def amIOld(self):\n",
        "        # Do some computations in here and print out the correct statement to the console\n",
        "        if(self.age < 13):\n",
        "            print(\"You are young.\")\n",
        "        elif(self.age >= 13 and self.age < 18):\n",
        "            print(\"You are a teenager.\")\n",
        "        else:\n",
        "            print(\"You are old.\")\n",
        "    def yearPasses(self):\n",
        "        # Increment the age of the person in here\n",
        "        self.age += 1\n",
        "        return self.age\n",
        "    \n",
        "\n",
        "t = int(input())\n",
        "for i in range(0, t):\n",
        "    age = int(input())         \n",
        "    p = Person(age)  \n",
        "    p.amIOld()\n",
        "    for j in range(0, 3):\n",
        "        p.yearPasses()       \n",
        "    p.amIOld()\n",
        "    print(\"\")"
      ],
      "metadata": {
        "id": "qBaZoCU8ik4R",
        "colab": {
          "base_uri": "https://localhost:8080/"
        },
        "outputId": "82513001-5030-4ce8-d0bd-a31b6bae0955"
      },
      "execution_count": 1,
      "outputs": [
        {
          "output_type": "stream",
          "name": "stdout",
          "text": [
            "4\n",
            "-1\n",
            "Age is not valid, setting age to 0.\n",
            "You are young.\n",
            "You are young.\n",
            "\n",
            "10\n",
            "You are young.\n",
            "You are a teenager.\n",
            "\n",
            "16\n",
            "You are a teenager.\n",
            "You are old.\n",
            "\n",
            "18\n",
            "You are old.\n",
            "You are old.\n",
            "\n"
          ]
        }
      ]
    }
  ]
}