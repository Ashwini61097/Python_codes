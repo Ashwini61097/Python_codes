{
  "nbformat": 4,
  "nbformat_minor": 0,
  "metadata": {
    "colab": {
      "provenance": []
    },
    "kernelspec": {
      "name": "python3",
      "display_name": "Python 3"
    },
    "language_info": {
      "name": "python"
    }
  },
  "cells": [
    {
      "cell_type": "markdown",
      "source": [
        "Task:\n",
        "\n",
        "The provided code stub reads two integers, a and b, from STDIN.\n",
        "\n",
        "Add logic to print two lines. The first line should contain the result of integer division,\n",
        "a//b . The second line should contain the result of float division, a/b.\n",
        "\n",
        "No rounding or formatting is necessary."
      ],
      "metadata": {
        "id": "AXo_eQ5eww8_"
      }
    },
    {
      "cell_type": "code",
      "source": [
        "if __name__ == '__main__':\n",
        "    a = int(input())\n",
        "    b = int(input())\n",
        "    \n",
        "    print(a//b)\n",
        "    print(a/b)"
      ],
      "metadata": {
        "colab": {
          "base_uri": "https://localhost:8080/"
        },
        "id": "7__cPU5VxBNo",
        "outputId": "91591c6e-2d30-4fe6-d8ad-2b729d0b4b51"
      },
      "execution_count": 5,
      "outputs": [
        {
          "output_type": "stream",
          "name": "stdout",
          "text": [
            "4\n",
            "3\n",
            "1\n",
            "1.3333333333333333\n"
          ]
        }
      ]
    },
    {
      "cell_type": "code",
      "source": [],
      "metadata": {
        "id": "1ijkulnixFO6"
      },
      "execution_count": null,
      "outputs": []
    }
  ]
}