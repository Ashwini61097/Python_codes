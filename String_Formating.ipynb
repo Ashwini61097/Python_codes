{
 "cells": [
  {
   "cell_type": "markdown",
   "id": "02061091",
   "metadata": {},
   "source": [
    "Given an integer, n , print the following values for each integer i from 1 to n: \n",
    "    Decimal\n",
    "    Octal\n",
    "    Hexadecimal (capitalized)\n",
    "    Binary\n",
    "\n",
    "Function Description\n",
    "\n",
    "Complete the print_formatted function in the editor below.\n",
    "\n",
    "print_formatted has the following parameters:\n",
    "\n",
    "int number: the maximum value to print\n",
    "\n",
    "Prints\n",
    "\n",
    "The four values must be printed on a single line in the order specified above for each i from 1 to n . Each value should be space-padded to match the width of the binary value of number and the values should be separated by a single space."
   ]
  },
  {
   "cell_type": "code",
   "execution_count": 9,
   "id": "09dd8da4",
   "metadata": {},
   "outputs": [
    {
     "name": "stdout",
     "output_type": "stream",
     "text": [
      "6\n",
      "  1   1   1   1\n",
      "  2   2   2  10\n",
      "  3   3   3  11\n",
      "  4   4   4 100\n",
      "  5   5   5 101\n",
      "  6   6   6 110\n"
     ]
    }
   ],
   "source": [
    "def print_formatted(number):\n",
    "\n",
    "    width = len(\"{0:b}\".format(number))\n",
    "\n",
    "    for i in range(1, number + 1):\n",
    "        print(\"{0:{w}d} {0:{w}o} {0:{w}X} {0:{w}b}\".format(i, w = width))\n",
    "\n",
    "if __name__ == '__main__':\n",
    "    n = int(input())\n",
    "    print_formatted(n)"
   ]
  },
  {
   "cell_type": "code",
   "execution_count": null,
   "id": "79450ab0",
   "metadata": {},
   "outputs": [],
   "source": []
  }
 ],
 "metadata": {
  "kernelspec": {
   "display_name": "Python 3 (ipykernel)",
   "language": "python",
   "name": "python3"
  },
  "language_info": {
   "codemirror_mode": {
    "name": "ipython",
    "version": 3
   },
   "file_extension": ".py",
   "mimetype": "text/x-python",
   "name": "python",
   "nbconvert_exporter": "python",
   "pygments_lexer": "ipython3",
   "version": "3.10.9"
  }
 },
 "nbformat": 4,
 "nbformat_minor": 5
}
