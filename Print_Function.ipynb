{
  "nbformat": 4,
  "nbformat_minor": 0,
  "metadata": {
    "colab": {
      "provenance": []
    },
    "kernelspec": {
      "name": "python3",
      "display_name": "Python 3"
    },
    "language_info": {
      "name": "python"
    }
  },
  "cells": [
    {
      "cell_type": "markdown",
      "source": [
        "Task:\n",
        "\n",
        "\n",
        "The included code stub will read an integer,n, from STDIN.\n",
        "\n",
        "Without using any string methods, try to print the following:\n",
        "123.....n\n",
        "\n",
        "Note that \"\" represents the consecutive values in between."
      ],
      "metadata": {
        "id": "ZPKfct2foxjI"
      }
    },
    {
      "cell_type": "code",
      "execution_count": 1,
      "metadata": {
        "colab": {
          "base_uri": "https://localhost:8080/"
        },
        "id": "lOXGrZ2mor7S",
        "outputId": "5cf4cebd-a93e-4e7d-b5e6-bbd3915ad6b4"
      },
      "outputs": [
        {
          "output_type": "stream",
          "name": "stdout",
          "text": [
            "7\n",
            "1234567"
          ]
        }
      ],
      "source": [
        "if __name__ == '__main__':\n",
        "    n = int(input())\n",
        "    for i in range(1,n+1):\n",
        "      print(i, end='')"
      ]
    }
  ]
}