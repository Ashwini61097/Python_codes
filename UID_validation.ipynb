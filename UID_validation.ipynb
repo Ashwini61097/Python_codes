{
  "nbformat": 4,
  "nbformat_minor": 0,
  "metadata": {
    "colab": {
      "provenance": []
    },
    "kernelspec": {
      "name": "python3",
      "display_name": "Python 3"
    },
    "language_info": {
      "name": "python"
    }
  },
  "cells": [
    {
      "cell_type": "markdown",
      "source": [
        "TASK:\n",
        "\n",
        "ABCXYZ company has up to 100 employees.\n",
        "The company decides to create a unique identification number (UID) for each of its employees.\n",
        "The company has assigned you the task of validating all the randomly generated UIDs.\n",
        "\n",
        "A valid UID must follow the rules below:\n",
        "\n",
        "1. It must contain at least 2 uppercase English alphabet characters.\n",
        "2. It must contain at least 3 digits (0-9).\n",
        "3. It should only contain alphanumeric characters (a-z, A-Z & 0-9).\n",
        "4. No character should repeat.\n",
        "5. There must be exactly 10 characters in a valid UID."
      ],
      "metadata": {
        "id": "wolBKGlC6JJH"
      }
    },
    {
      "cell_type": "code",
      "source": [
        "n = int(input())\n",
        "for i in range(n):\n",
        "  uid = input(\"\")\n",
        "  uid_lst = [*uid]\n",
        "  u = 0\n",
        "  n = 0\n",
        "  al = 0\n",
        "  fl = False\n",
        "  for i in range(len(uid_lst)):\n",
        "    if(uid_lst[i].isupper() == True):\n",
        "      u += 1\n",
        "    if(uid_lst[i].isnumeric() == True):\n",
        "      n += 1\n",
        "    if(uid_lst[i].isalnum() == True):\n",
        "      al += 1\n",
        "    if(len(uid_lst) == 10):\n",
        "      fl = True\n",
        "    s1 = sorted(uid_lst)\n",
        "    #print(s1)\n",
        "    flag = False\n",
        "    for i in range(len(s1)-1):\n",
        "      if(s1[i] == s1[i+1]):\n",
        "        flag = True\n",
        "        break\n",
        "      else:\n",
        "        flag = False\n",
        "    #print(flag)\n",
        "  '''\n",
        "  print(u)\n",
        "  print(n)\n",
        "  print(al)\n",
        "  print(fl)\n",
        "  print(flag)\n",
        "  '''\n",
        "  if(u >= 2 and n >= 3 and al == len(uid_lst) and fl == True and flag == False):\n",
        "    print('Valid')\n",
        "  else:\n",
        "    print('Invalid')\n"
      ],
      "metadata": {
        "colab": {
          "base_uri": "https://localhost:8080/"
        },
        "id": "wIoeqMph18dT",
        "outputId": "9d3505b2-7d48-42b8-dc7c-b128af9fb92e"
      },
      "execution_count": 33,
      "outputs": [
        {
          "output_type": "stream",
          "name": "stdout",
          "text": [
            "2\n",
            "B1CDEF2354\n",
            "Valid\n",
            "PiNi150672\n",
            "Invalid\n"
          ]
        }
      ]
    }
  ]
}