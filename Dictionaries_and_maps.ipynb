{
  "nbformat": 4,
  "nbformat_minor": 0,
  "metadata": {
    "colab": {
      "provenance": []
    },
    "kernelspec": {
      "name": "python3",
      "display_name": "Python 3"
    },
    "language_info": {
      "name": "python"
    }
  },
  "cells": [
    {
      "cell_type": "markdown",
      "source": [
        "# **Task**:\n",
        "\n",
        "Given n names and phone numbers, assemble a phone book that maps friends' names to their respective phone numbers. \n",
        "You will then be given an unknown number of names to query your phone book for. \n",
        "For each name queried, print the associated entry from your phone book on a new line in the form name=phoneNumber; \n",
        "if an entry for name is not found, print Not found instead. "
      ],
      "metadata": {
        "id": "8_xIxxqg-Nro"
      }
    },
    {
      "cell_type": "code",
      "execution_count": 1,
      "metadata": {
        "colab": {
          "base_uri": "https://localhost:8080/"
        },
        "id": "pYPf4reQ831t",
        "outputId": "60e03c03-b250-42fe-b5f6-0140366ef7a4"
      },
      "outputs": [
        {
          "output_type": "stream",
          "name": "stdout",
          "text": [
            "2\n",
            "ash 123456789\n",
            "piyu 987456321\n",
            "avni\n",
            "piyu\n",
            "Not found\n",
            "piyu=987456321\n"
          ]
        }
      ],
      "source": [
        "# Enter your code here. Read input from STDIN. Print output to STDOUT\n",
        "n=int(input())\n",
        "d = {}\n",
        "lst = []\n",
        "for i in range(n):\n",
        "    e1,e2 = input().split()\n",
        "    d[e1] = e2\n",
        "for i in range(n):\n",
        "    op = input()\n",
        "    lst.append(op)\n",
        "\n",
        "#print(f\"lst is: {lst}\")\n",
        "\n",
        "for i in lst:\n",
        "  if i in d:\n",
        "    x = d[i]\n",
        "    print(f\"{i}={x}\")\n",
        "  else:\n",
        "    print(\"Not found\")"
      ]
    }
  ]
}