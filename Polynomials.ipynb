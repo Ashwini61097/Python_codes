{
  "nbformat": 4,
  "nbformat_minor": 0,
  "metadata": {
    "colab": {
      "provenance": []
    },
    "kernelspec": {
      "name": "python3",
      "display_name": "Python 3"
    },
    "language_info": {
      "name": "python"
    }
  },
  "cells": [
    {
      "cell_type": "markdown",
      "source": [
        "# **Task**:\n",
        "\n",
        "Study polynomial functions such as polyval, poly, roots."
      ],
      "metadata": {
        "id": "V_EJJJvaT-9k"
      }
    },
    {
      "cell_type": "code",
      "source": [
        "import numpy\n",
        "\n",
        "lst = list(map(float, input().split()))\n",
        "#print(lst)\n",
        "x = int(input())\n",
        "#print(x)\n",
        "\n",
        "print(\"polynomial at specific value: \")\n",
        "print(numpy.polyval(lst, x))\n",
        "print(\"coefficients of a polynomial: \")\n",
        "print(numpy.poly(lst))\n",
        "print(\"roots of a polynomial with the given coefficients: \")\n",
        "print(numpy.roots(lst))\n"
      ],
      "metadata": {
        "colab": {
          "base_uri": "https://localhost:8080/"
        },
        "id": "WcyfqRMvM5Ks",
        "outputId": "1d25a9f9-68d9-46f0-d9ba-8117798ad64c"
      },
      "execution_count": 1,
      "outputs": [
        {
          "output_type": "stream",
          "name": "stdout",
          "text": [
            "1 -2 0 2\n",
            "4\n",
            "polynomial at specific value: \n",
            "34.0\n",
            "coefficients of a polynomial: \n",
            "[ 1. -1. -4.  4.  0.]\n",
            "roots of a polynomial with the given coefficients: \n",
            "[ 1.41964338+0.60629073j  1.41964338-0.60629073j -0.83928676+0.j        ]\n"
          ]
        }
      ]
    }
  ]
}