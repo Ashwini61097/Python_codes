{
 "cells": [
  {
   "cell_type": "markdown",
   "id": "ad28652f",
   "metadata": {},
   "source": [
    "## itertools.permutations(iterable[, r])\n",
    "\n",
    "This tool returns successive r length permutations of elements in an iterable.\n",
    "\n",
    "If r is not specified or is None, then r defaults to the length of the iterable, and all possible full length permutations are generated.\n",
    "\n",
    "Permutations are printed in a lexicographic sorted order. So, if the input iterable is sorted, the permutation tuples will be produced in a sorted order."
   ]
  },
  {
   "cell_type": "code",
   "execution_count": 1,
   "id": "0d27436f",
   "metadata": {},
   "outputs": [
    {
     "name": "stdout",
     "output_type": "stream",
     "text": [
      "hack 2\n",
      "AC\n",
      "AH\n",
      "AK\n",
      "CA\n",
      "CH\n",
      "CK\n",
      "HA\n",
      "HC\n",
      "HK\n",
      "KA\n",
      "KC\n",
      "KH\n"
     ]
    }
   ],
   "source": [
    "from itertools import permutations\n",
    "\n",
    "M,N = input().split()\n",
    "M = sorted(M.upper())\n",
    "#print(M)\n",
    "\n",
    "a = list(permutations(M, int(N)))\n",
    "\n",
    "for i in a:\n",
    "    print(\"\".join(i))"
   ]
  }
 ],
 "metadata": {
  "kernelspec": {
   "display_name": "Python 3 (ipykernel)",
   "language": "python",
   "name": "python3"
  },
  "language_info": {
   "codemirror_mode": {
    "name": "ipython",
    "version": 3
   },
   "file_extension": ".py",
   "mimetype": "text/x-python",
   "name": "python",
   "nbconvert_exporter": "python",
   "pygments_lexer": "ipython3",
   "version": "3.10.9"
  }
 },
 "nbformat": 4,
 "nbformat_minor": 5
}
