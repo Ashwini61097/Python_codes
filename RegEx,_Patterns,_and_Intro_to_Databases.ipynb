{
  "nbformat": 4,
  "nbformat_minor": 0,
  "metadata": {
    "colab": {
      "provenance": []
    },
    "kernelspec": {
      "name": "python3",
      "display_name": "Python 3"
    },
    "language_info": {
      "name": "python"
    }
  },
  "cells": [
    {
      "cell_type": "markdown",
      "source": [
        "# **Task**:\n",
        "\n",
        "Consider a database table, Emails, which has the attributes First Name and Email ID. Given N rows of data simulating the Emails table, print an alphabetically-ordered list of people whose email address ends in @gmail.com."
      ],
      "metadata": {
        "id": "V_EJJJvaT-9k"
      }
    },
    {
      "cell_type": "code",
      "source": [
        "#!/bin/python3\n",
        "\n",
        "import math\n",
        "import os\n",
        "import random\n",
        "import re\n",
        "import sys\n",
        "\n",
        "\n",
        "\n",
        "if __name__ == '__main__':\n",
        "    N = int(input().strip())\n",
        "    lst = [] \n",
        "\n",
        "    for N_itr in range(N):\n",
        "        first_multiple_input = input().rstrip().split()\n",
        "        #print(first_multiple_input)\n",
        "\n",
        "        firstName = first_multiple_input[0]\n",
        "        #print(firstName)\n",
        "\n",
        "        emailID = first_multiple_input[1]\n",
        "        #print(emailID)\n",
        "\n",
        "        lst.append(firstName)\n",
        "        lst.append(emailID)\n",
        "\n",
        "    op = []\n",
        "\n",
        "    for i in range(len(lst)):\n",
        "      if(lst[i].endswith(\"@gmail.com\")):\n",
        "        op.append(lst[i-1])\n",
        "        #print(lst[i-1])\n",
        "    op = sorted(op)\n",
        "    for i in op:\n",
        "        print(i)"
      ],
      "metadata": {
        "colab": {
          "base_uri": "https://localhost:8080/"
        },
        "id": "NIHLJ6yAYQnZ",
        "outputId": "ffb66b74-4459-4ddf-c848-5b60e1ec8c6e"
      },
      "execution_count": 21,
      "outputs": [
        {
          "output_type": "stream",
          "name": "stdout",
          "text": [
            "6\n",
            "riya riya@gmail.com\n",
            "julia julia@julia.me\n",
            "julia sjulia@gmail.com\n",
            "julia julia@gmail.com\n",
            "samantha samantha@gmail.com\n",
            "tanya tanya@gmail.com\n",
            "julia\n",
            "julia\n",
            "riya\n",
            "samantha\n",
            "tanya\n"
          ]
        }
      ]
    }
  ]
}