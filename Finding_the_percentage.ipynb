{
  "nbformat": 4,
  "nbformat_minor": 0,
  "metadata": {
    "colab": {
      "provenance": []
    },
    "kernelspec": {
      "name": "python3",
      "display_name": "Python 3"
    },
    "language_info": {
      "name": "python"
    }
  },
  "cells": [
    {
      "cell_type": "markdown",
      "source": [
        "**TASK:**\n",
        "\n",
        "The provided code stub will read in a dictionary containing key/value pairs of name:[marks] for a list of students. Print the average of the marks array for the student name provided, showing 2 places after the decimal. \n",
        "\n",
        "Input Format\n",
        "\n",
        "The first line contains the integer n, the number of students' records. The next n lines contain the names and marks obtained by a student, each value separated by a space. The final line contains query_name, the name of a student to query.\n",
        "\n",
        "Output Format\n",
        "\n",
        "Print one line: The average of the marks obtained by the particular student correct to 2 decimal places."
      ],
      "metadata": {
        "id": "qIE_gviNO3hF"
      }
    },
    {
      "cell_type": "code",
      "execution_count": 6,
      "metadata": {
        "colab": {
          "base_uri": "https://localhost:8080/"
        },
        "id": "E8SBsERt3wDG",
        "outputId": "4bc2782f-dfac-4797-b90f-743f56bcc55e"
      },
      "outputs": [
        {
          "output_type": "stream",
          "name": "stdout",
          "text": [
            "2\n",
            "krishna 45 55 75\n",
            "piyu 22 56 75\n",
            "piyu\n",
            "51.00\n"
          ]
        }
      ],
      "source": [
        "if __name__ == '__main__':\n",
        "    n = int(input())\n",
        "    student_marks = {}\n",
        "    for _ in range(n):\n",
        "        name, *line = input().split()\n",
        "        scores = list(map(float, line))\n",
        "        student_marks[name] = scores\n",
        "    query_name = input()\n",
        "    #my_dict = {'key1': [1, 2], 'key2': [3, 4]}\n",
        "\n",
        "    total_sum = 0\n",
        "\n",
        "    # check if key exists\n",
        "    if query_name in student_marks:\n",
        "        for value in student_marks[query_name]:\n",
        "          total_sum += value\n",
        "          op = round((total_sum /3), 2)\n",
        "  \n",
        "        print('{:.2f}'.format(op))\n",
        "    else:\n",
        "        # key does not exist, create it and set value to list containing new value\n",
        "        \n",
        "        print(\"key doesn't exist\")\n",
        "        \n",
        "    \n",
        "\n"
      ]
    }
  ]
}