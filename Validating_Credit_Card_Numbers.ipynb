{
  "nbformat": 4,
  "nbformat_minor": 0,
  "metadata": {
    "colab": {
      "provenance": []
    },
    "kernelspec": {
      "name": "python3",
      "display_name": "Python 3"
    },
    "language_info": {
      "name": "python"
    }
  },
  "cells": [
    {
      "cell_type": "markdown",
      "source": [
        "TASK:\n",
        "\n",
        "You and Fredrick are good friends. Yesterday, Fredrick received N credit cards from ABCD Bank. He wants to verify whether his credit card numbers are valid or not. You happen to be great at regex so he is asking for your help!\n",
        "\n",
        "A valid credit card from ABCD Bank has the following characteristics:\n",
        "\n",
        "► It must start with a 4,5 or 6.\n",
        "\n",
        "► It must contain exactly 16 digits.\n",
        "\n",
        "► It must only consist of digits (0-9).\n",
        "\n",
        "► It may have digits in groups of 4, separated by one hyphen \"-\".\n",
        "\n",
        "► It must NOT use any other separator like ' ' , '_', etc.\n",
        "\n",
        "► It must NOT have 4 or more consecutive repeated digits."
      ],
      "metadata": {
        "id": "jTjwQeyRybsG"
      }
    },
    {
      "cell_type": "code",
      "source": [
        "pip install detect_delimiter"
      ],
      "metadata": {
        "colab": {
          "base_uri": "https://localhost:8080/"
        },
        "id": "57VLkoNu5Uq9",
        "outputId": "80012fc8-1455-4e12-af2c-c5d69f473e6c"
      },
      "execution_count": 5,
      "outputs": [
        {
          "output_type": "stream",
          "name": "stdout",
          "text": [
            "Looking in indexes: https://pypi.org/simple, https://us-python.pkg.dev/colab-wheels/public/simple/\n",
            "Collecting detect_delimiter\n",
            "  Downloading detect_delimiter-0.1.1-py3-none-any.whl (3.6 kB)\n",
            "Installing collected packages: detect_delimiter\n",
            "Successfully installed detect_delimiter-0.1.1\n"
          ]
        }
      ]
    },
    {
      "cell_type": "code",
      "source": [
        "# Enter your code here. Read input from STDIN. Print output to STDOUT\n",
        "from detect_delimiter import detect\n",
        "\n",
        "n_ip = int(input())\n",
        "card_lst = []\n",
        "\n",
        "for i in range(n_ip):\n",
        "    card = input()\n",
        "    card_lst.append(card)\n",
        "\n",
        "for i in card_lst:\n",
        "\n",
        "    card_d = ([*i])\n",
        "    re = 0\n",
        "    for j in range(len(card_d)-1):\n",
        "      if(card_d[j] == card_d[j+1]):\n",
        "        re += 1\n",
        "    \n",
        "    flag2 = False\n",
        "    if(re < 4):\n",
        "      flag2 = True\n",
        "    else:\n",
        "      flag2 = False\n",
        "    \n",
        "    print(flag2)\n",
        "\n",
        "    al = 0\n",
        "    flag4 = False\n",
        "    for j in range(len(card_d)):\n",
        "      if(card_d[j].isnumeric() == True):\n",
        "        al += 1\n",
        "        flag4 = True\n",
        "      else:\n",
        "        flag4 = False\n",
        "\n",
        "    print(al)\n",
        "    print(flag4)\n",
        "\n",
        "    flag1 = False\n",
        "    if(al < 17):\n",
        "        flag1 = True\n",
        "    else:\n",
        "        flag1 = False\n",
        "    \n",
        "    print(flag1)\n",
        "\n",
        "    flag3 = False\n",
        "    if(al < 16):\n",
        "      if(detect(i) == '-'):\n",
        "        flag3 = True\n",
        "      else:\n",
        "        flag3 = False\n",
        "    elif(al == 16):\n",
        "      flag3 = True\n",
        "    else:\n",
        "      flag3 = False\n",
        "\n",
        "    print(flag3)\n",
        "\n",
        "    flag5 = False\n",
        "    if(card_d[0] == '4' or card_d[0] == '5' or card_d[0] == '6'):\n",
        "      flag5 = True\n",
        "    else:\n",
        "      flag5 = False\n",
        "\n",
        "    print(flag5)\n",
        "\n",
        "    flag6 = False\n",
        "    if '-' in card[4::5]:\n",
        "      flag6 = True\n",
        "    else:\n",
        "      flag6 = False\n",
        "\n",
        "\n",
        "    print(flag6)\n",
        "\n",
        "    \n",
        "    if(flag1 == True and flag2 == True and flag3 == True and flag4 == True and flag5 == True and flag5 == True):\n",
        "      print(\"Valid\")\n",
        "    else:\n",
        "      print(\"Invalid\")\n",
        "    \n",
        "    "
      ],
      "metadata": {
        "colab": {
          "base_uri": "https://localhost:8080/"
        },
        "id": "KpGcsYfbzK83",
        "outputId": "82670042-33a8-401e-aad1-d21d73959d51"
      },
      "execution_count": 28,
      "outputs": [
        {
          "output_type": "stream",
          "name": "stdout",
          "text": [
            "1\n",
            "61234-567-8912-3456\n",
            "True\n",
            "16\n",
            "True\n",
            "True\n",
            "True\n",
            "True\n",
            "True\n",
            "Valid\n"
          ]
        }
      ]
    },
    {
      "cell_type": "code",
      "source": [
        "card = '4424444424442444'\n",
        "card_d = ([*card])\n",
        "card_d"
      ],
      "metadata": {
        "colab": {
          "base_uri": "https://localhost:8080/"
        },
        "id": "LqssP1sy0xPO",
        "outputId": "ab2d04c4-4529-4162-8ee8-ce13caf61ac6"
      },
      "execution_count": 19,
      "outputs": [
        {
          "output_type": "execute_result",
          "data": {
            "text/plain": [
              "['4',\n",
              " '4',\n",
              " '2',\n",
              " '4',\n",
              " '4',\n",
              " '4',\n",
              " '4',\n",
              " '4',\n",
              " '2',\n",
              " '4',\n",
              " '4',\n",
              " '4',\n",
              " '2',\n",
              " '4',\n",
              " '4',\n",
              " '4']"
            ]
          },
          "metadata": {},
          "execution_count": 19
        }
      ]
    },
    {
      "cell_type": "code",
      "source": [
        "card_d = ([*i])"
      ],
      "metadata": {
        "id": "XYT8YPbB04mB"
      },
      "execution_count": null,
      "outputs": []
    }
  ]
}