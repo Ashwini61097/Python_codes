{
 "cells": [
  {
   "cell_type": "raw",
   "id": "2e407472",
   "metadata": {},
   "source": [
    "You are given a string S. Suppose a character 'c' occurs consecutively X times in the string. Replace these consecutive occurrences of the character 'c' with (X, c) in the string."
   ]
  },
  {
   "cell_type": "code",
   "execution_count": 12,
   "id": "4d7836a7",
   "metadata": {},
   "outputs": [
    {
     "name": "stdout",
     "output_type": "stream",
     "text": [
      "1222311\n",
      "(1, 1) (3, 2) (1, 3) (2, 1)\n"
     ]
    }
   ],
   "source": [
    "from itertools import groupby\n",
    "\n",
    "s = input()\n",
    "\n",
    "# Group the elements based on a criterion\n",
    "groups = groupby(s)\n",
    "#print(groups)\n",
    "\n",
    "op = []\n",
    "\n",
    "# Iterate over the groups and access the elements\n",
    "for key, group in groups:\n",
    "    a = []\n",
    "    \n",
    "    a.append(len(list(group)))\n",
    "    a.append(int(key))\n",
    "    op.append(tuple(a))\n",
    "    \n",
    "print(*op)"
   ]
  }
 ],
 "metadata": {
  "kernelspec": {
   "display_name": "Python 3 (ipykernel)",
   "language": "python",
   "name": "python3"
  },
  "language_info": {
   "codemirror_mode": {
    "name": "ipython",
    "version": 3
   },
   "file_extension": ".py",
   "mimetype": "text/x-python",
   "name": "python",
   "nbconvert_exporter": "python",
   "pygments_lexer": "ipython3",
   "version": "3.10.9"
  }
 },
 "nbformat": 4,
 "nbformat_minor": 5
}
