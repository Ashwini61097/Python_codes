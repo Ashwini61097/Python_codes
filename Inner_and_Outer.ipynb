{
  "nbformat": 4,
  "nbformat_minor": 0,
  "metadata": {
    "colab": {
      "provenance": []
    },
    "kernelspec": {
      "name": "python3",
      "display_name": "Python 3"
    },
    "language_info": {
      "name": "python"
    }
  },
  "cells": [
    {
      "cell_type": "markdown",
      "source": [
        "# **Task**:\n",
        "\n",
        "You are given two arrays: A and B.\n",
        "Your task is to compute their inner and outer product."
      ],
      "metadata": {
        "id": "V_EJJJvaT-9k"
      }
    },
    {
      "cell_type": "code",
      "source": [
        "import numpy\n",
        "\n",
        "#N = int(input())\n",
        "\n",
        "A = numpy.array(input().strip().split(), int)\n",
        "B = numpy.array(input().strip().split(), int)\n",
        "\n",
        "#The inner tool returns the inner product of two arrays.\n",
        "print(\"Inner product: \")\n",
        "print(numpy.inner(A, B))\n",
        "#The outer tool returns the outer product of two arrays.\n",
        "print(\"Outer product: \")\n",
        "print(numpy.outer(A, B))"
      ],
      "metadata": {
        "colab": {
          "base_uri": "https://localhost:8080/"
        },
        "id": "VQ4yNl8uUg3v",
        "outputId": "58e612e3-f548-4cc1-aa56-004f1dbcee43"
      },
      "execution_count": 3,
      "outputs": [
        {
          "output_type": "stream",
          "name": "stdout",
          "text": [
            "0 1\n",
            "2 3\n",
            "Inner product: \n",
            "3\n",
            "Outer product: \n",
            "[[0 0]\n",
            " [2 3]]\n"
          ]
        }
      ]
    }
  ]
}