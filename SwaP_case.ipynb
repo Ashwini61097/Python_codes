{
  "nbformat": 4,
  "nbformat_minor": 0,
  "metadata": {
    "colab": {
      "provenance": []
    },
    "kernelspec": {
      "name": "python3",
      "display_name": "Python 3"
    },
    "language_info": {
      "name": "python"
    }
  },
  "cells": [
    {
      "cell_type": "code",
      "execution_count": null,
      "metadata": {
        "id": "PFiTJir1bQcU"
      },
      "outputs": [],
      "source": [
        "'''\n",
        "You are given a string and your task is to swap cases. \n",
        "In other words, convert all lowercase letters to uppercase letters and vice versa.\n",
        "\n",
        "For Example:\n",
        "\n",
        "Www.HackerRank.com → wWW.hACKERrANK.COM\n",
        "Pythonist 2 → pYTHONIST \n",
        "\n",
        "'''\n",
        "\n",
        "def swap_case(s):\n",
        "  string =''\n",
        "  for i in s:\n",
        "    if(i.islower()):\n",
        "      j = i.upper()\n",
        "      string = string + j\n",
        "    elif(i.isupper()):\n",
        "      j = i.lower()\n",
        "      string = string + j\n",
        "    else:\n",
        "      string = string + i\n",
        "  return string\n",
        "\n",
        "if __name__ == '__main__':\n",
        "    s = input()\n",
        "    result = swap_case(s)\n",
        "    print(result)\n"
      ]
    }
  ]
}