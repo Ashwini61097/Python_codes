{
 "cells": [
  {
   "cell_type": "markdown",
   "id": "b62cce91",
   "metadata": {},
   "source": [
    "## itertools.product()\n",
    "\n",
    "This tool computes the cartesian product of input iterables. "
   ]
  },
  {
   "cell_type": "code",
   "execution_count": 1,
   "id": "985ef17b",
   "metadata": {},
   "outputs": [
    {
     "name": "stdout",
     "output_type": "stream",
     "text": [
      "1 2\n",
      "3 4\n",
      "(1, 3) (1, 4) (2, 3) (2, 4) "
     ]
    }
   ],
   "source": [
    "# Enter your code here. Read input from STDIN. Print output to STDOUT\n",
    "\n",
    "from itertools import product\n",
    "\n",
    "A = list(map(int, input().strip().split()))\n",
    "B = list(map(int, input().strip().split()))\n",
    "\n",
    "a = (list(product(A,B)))\n",
    "\n",
    "for item in a:\n",
    "    print(item, end=\" \")"
   ]
  }
 ],
 "metadata": {
  "kernelspec": {
   "display_name": "Python 3 (ipykernel)",
   "language": "python",
   "name": "python3"
  },
  "language_info": {
   "codemirror_mode": {
    "name": "ipython",
    "version": 3
   },
   "file_extension": ".py",
   "mimetype": "text/x-python",
   "name": "python",
   "nbconvert_exporter": "python",
   "pygments_lexer": "ipython3",
   "version": "3.10.9"
  }
 },
 "nbformat": 4,
 "nbformat_minor": 5
}
