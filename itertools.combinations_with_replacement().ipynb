{
 "cells": [
  {
   "cell_type": "markdown",
   "id": "f35ddd82",
   "metadata": {},
   "source": [
    "## itertools.combinations_with_replacement(iterable, r)\n",
    "\n",
    "This tool returns r length subsequences of elements from the input iterable allowing individual elements to be repeated more than once.\n",
    "\n",
    "Combinations are emitted in lexicographic sorted order. So, if the input iterable is sorted, the combination tuples will be produced in sorted order."
   ]
  },
  {
   "cell_type": "code",
   "execution_count": 1,
   "id": "255d6c40",
   "metadata": {},
   "outputs": [
    {
     "name": "stdout",
     "output_type": "stream",
     "text": [
      "hack 2\n",
      "AA\n",
      "AC\n",
      "AH\n",
      "AK\n",
      "CC\n",
      "CH\n",
      "CK\n",
      "HH\n",
      "HK\n",
      "KK\n"
     ]
    }
   ],
   "source": [
    "from itertools import combinations_with_replacement\n",
    "\n",
    "M,N = input().split()\n",
    "M = sorted(M.upper())\n",
    "\n",
    "a = list(combinations_with_replacement(M ,int(N)))\n",
    "\n",
    "for i in a:\n",
    "    print(\"\".join(i))"
   ]
  },
  {
   "cell_type": "code",
   "execution_count": null,
   "id": "6d09a166",
   "metadata": {},
   "outputs": [],
   "source": []
  }
 ],
 "metadata": {
  "kernelspec": {
   "display_name": "Python 3 (ipykernel)",
   "language": "python",
   "name": "python3"
  },
  "language_info": {
   "codemirror_mode": {
    "name": "ipython",
    "version": 3
   },
   "file_extension": ".py",
   "mimetype": "text/x-python",
   "name": "python",
   "nbconvert_exporter": "python",
   "pygments_lexer": "ipython3",
   "version": "3.10.9"
  }
 },
 "nbformat": 4,
 "nbformat_minor": 5
}
