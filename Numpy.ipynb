{
  "nbformat": 4,
  "nbformat_minor": 0,
  "metadata": {
    "colab": {
      "provenance": []
    },
    "kernelspec": {
      "name": "python3",
      "display_name": "Python 3"
    },
    "language_info": {
      "name": "python"
    }
  },
  "cells": [
    {
      "cell_type": "markdown",
      "source": [
        "# Zeros and Ones\n",
        "# **Task**:\n",
        "\n",
        "You are given the shape of the array in the form of space-separated integers, each integer representing the size of different dimensions, your task is to print an array of the given shape and integer type using the tools numpy.zeros and numpy.ones.\n"
      ],
      "metadata": {
        "id": "V_EJJJvaT-9k"
      }
    },
    {
      "cell_type": "code",
      "source": [
        "import numpy\n",
        "\n",
        "lst = list(map(int, input().split()))\n",
        "\n",
        "print(\"OUTPUT IS: \")\n",
        "print(numpy.zeros(lst, dtype = numpy.int))                   \n",
        "\n",
        "print(numpy.ones(lst, dtype = numpy.int))"
      ],
      "metadata": {
        "colab": {
          "base_uri": "https://localhost:8080/"
        },
        "id": "h9_ldyKuc7El",
        "outputId": "cc7ee91f-c2c1-4b40-cbdc-29bbde78dc17"
      },
      "execution_count": null,
      "outputs": [
        {
          "output_type": "stream",
          "name": "stdout",
          "text": [
            "3 3 3\n",
            "OUTPUT IS: \n",
            "[[[0 0 0]\n",
            "  [0 0 0]\n",
            "  [0 0 0]]\n",
            "\n",
            " [[0 0 0]\n",
            "  [0 0 0]\n",
            "  [0 0 0]]\n",
            "\n",
            " [[0 0 0]\n",
            "  [0 0 0]\n",
            "  [0 0 0]]]\n",
            "[[[1 1 1]\n",
            "  [1 1 1]\n",
            "  [1 1 1]]\n",
            "\n",
            " [[1 1 1]\n",
            "  [1 1 1]\n",
            "  [1 1 1]]\n",
            "\n",
            " [[1 1 1]\n",
            "  [1 1 1]\n",
            "  [1 1 1]]]\n"
          ]
        },
        {
          "output_type": "stream",
          "name": "stderr",
          "text": [
            "<ipython-input-2-69ac8776b5bc>:6: DeprecationWarning: `np.int` is a deprecated alias for the builtin `int`. To silence this warning, use `int` by itself. Doing this will not modify any behavior and is safe. When replacing `np.int`, you may wish to use e.g. `np.int64` or `np.int32` to specify the precision. If you wish to review your current use, check the release note link for additional information.\n",
            "Deprecated in NumPy 1.20; for more details and guidance: https://numpy.org/devdocs/release/1.20.0-notes.html#deprecations\n",
            "  print(numpy.zeros(lst, dtype = numpy.int))\n",
            "<ipython-input-2-69ac8776b5bc>:8: DeprecationWarning: `np.int` is a deprecated alias for the builtin `int`. To silence this warning, use `int` by itself. Doing this will not modify any behavior and is safe. When replacing `np.int`, you may wish to use e.g. `np.int64` or `np.int32` to specify the precision. If you wish to review your current use, check the release note link for additional information.\n",
            "Deprecated in NumPy 1.20; for more details and guidance: https://numpy.org/devdocs/release/1.20.0-notes.html#deprecations\n",
            "  print(numpy.ones(lst, dtype = numpy.int))\n"
          ]
        }
      ]
    },
    {
      "cell_type": "markdown",
      "source": [
        "# Shape and Reshape\n",
        "# **Task**:\n",
        "\n",
        "You are given a space separated list of nine integers. Your task is to convert this list into a 3X3 NumPy array.\n",
        "\n"
      ],
      "metadata": {
        "id": "Tcug2zzL5JOQ"
      }
    },
    {
      "cell_type": "code",
      "source": [
        "import numpy\n",
        "\n",
        "lst = list(map(int, input().split()))\n",
        "my_array = numpy.array(lst)\n",
        "print(numpy.reshape(my_array,(3,3)))\n"
      ],
      "metadata": {
        "colab": {
          "base_uri": "https://localhost:8080/"
        },
        "id": "0sUnF0Ff5s_n",
        "outputId": "1ec35761-191f-47e6-d9e0-510e0b055987"
      },
      "execution_count": 1,
      "outputs": [
        {
          "output_type": "stream",
          "name": "stdout",
          "text": [
            "1 2 3 4 5 6 7 8 9\n",
            "[[1 2 3]\n",
            " [4 5 6]\n",
            " [7 8 9]]\n"
          ]
        }
      ]
    },
    {
      "cell_type": "markdown",
      "source": [
        "# Eye and Identity\n",
        "# **Task**:\n",
        "\n",
        "Your task is to print an array of size N X M with its main diagonal elements as 0's and 1's everywhere else.\n"
      ],
      "metadata": {
        "id": "27cOKJn6Eco1"
      }
    },
    {
      "cell_type": "code",
      "source": [
        "import numpy\n",
        "n, m = (map(int, input().split()))\n",
        "\n",
        "numpy.set_printoptions(legacy = '1.13')\n",
        "\n",
        "print(numpy.eye(n, m, k = 0))\n"
      ],
      "metadata": {
        "colab": {
          "base_uri": "https://localhost:8080/"
        },
        "id": "fQmqCUSvBPcW",
        "outputId": "2cdea37f-743a-4b7e-840a-762eb027e68f"
      },
      "execution_count": 2,
      "outputs": [
        {
          "output_type": "stream",
          "name": "stdout",
          "text": [
            "8 7\n",
            "[[ 1.  0.  0.  0.  0.  0.  0.]\n",
            " [ 0.  1.  0.  0.  0.  0.  0.]\n",
            " [ 0.  0.  1.  0.  0.  0.  0.]\n",
            " [ 0.  0.  0.  1.  0.  0.  0.]\n",
            " [ 0.  0.  0.  0.  1.  0.  0.]\n",
            " [ 0.  0.  0.  0.  0.  1.  0.]\n",
            " [ 0.  0.  0.  0.  0.  0.  1.]\n",
            " [ 0.  0.  0.  0.  0.  0.  0.]]\n"
          ]
        }
      ]
    }
  ]
}