{
  "nbformat": 4,
  "nbformat_minor": 0,
  "metadata": {
    "colab": {
      "provenance": []
    },
    "kernelspec": {
      "name": "python3",
      "display_name": "Python 3"
    },
    "language_info": {
      "name": "python"
    }
  },
  "cells": [
    {
      "cell_type": "code",
      "execution_count": 1,
      "metadata": {
        "id": "PFiTJir1bQcU",
        "colab": {
          "base_uri": "https://localhost:8080/"
        },
        "outputId": "eb2ef824-fd6b-4502-cef3-d174b0509273"
      },
      "outputs": [
        {
          "output_type": "stream",
          "name": "stdout",
          "text": [
            "2004\n",
            "True\n"
          ]
        }
      ],
      "source": [
        "def is_leap(year):\n",
        "    leap = False\n",
        "    \n",
        "    # Write your logic here\n",
        "    if( year % 4 == 0):\n",
        "        if(year % 100 == 0):\n",
        "            if(year % 400 == 0):\n",
        "                leap = True\n",
        "            else: \n",
        "                leap = False\n",
        "        else: \n",
        "            leap = True\n",
        "    else: \n",
        "        leap = False\n",
        "        \n",
        "    return leap\n",
        "\n",
        "\n",
        "year = int(input())\n",
        "print(is_leap(year))"
      ]
    }
  ]
}