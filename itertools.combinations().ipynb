{
 "cells": [
  {
   "cell_type": "markdown",
   "id": "79bc8c5c",
   "metadata": {},
   "source": [
    "## itertools.combinations(iterable, r)\n",
    "\n",
    "This tool returns the r length subsequences of elements from the input iterable.\n",
    "\n",
    "Combinations are emitted in lexicographic sorted order. So, if the input iterable is sorted, the combination tuples will be produced in sorted order.\n",
    "\n"
   ]
  },
  {
   "cell_type": "code",
   "execution_count": 2,
   "id": "51b40c3a",
   "metadata": {},
   "outputs": [
    {
     "name": "stdout",
     "output_type": "stream",
     "text": [
      "hack 3\n",
      "A\n",
      "C\n",
      "H\n",
      "K\n",
      "ACH\n",
      "ACK\n",
      "AHK\n",
      "CHK\n"
     ]
    }
   ],
   "source": [
    "from itertools import combinations\n",
    "\n",
    "M,N = input().split()\n",
    "M = sorted(M.upper())\n",
    "\n",
    "a = list(combinations(M,int(N)))\n",
    "# print(a)\n",
    "\n",
    "for i in M:\n",
    "    print(\"\".join(i))\n",
    "\n",
    "for i in a:\n",
    "    print(\"\".join(i))"
   ]
  },
  {
   "cell_type": "code",
   "execution_count": null,
   "id": "77cdb5d7",
   "metadata": {},
   "outputs": [],
   "source": []
  }
 ],
 "metadata": {
  "kernelspec": {
   "display_name": "Python 3 (ipykernel)",
   "language": "python",
   "name": "python3"
  },
  "language_info": {
   "codemirror_mode": {
    "name": "ipython",
    "version": 3
   },
   "file_extension": ".py",
   "mimetype": "text/x-python",
   "name": "python",
   "nbconvert_exporter": "python",
   "pygments_lexer": "ipython3",
   "version": "3.10.9"
  }
 },
 "nbformat": 4,
 "nbformat_minor": 5
}
