{
  "nbformat": 4,
  "nbformat_minor": 0,
  "metadata": {
    "colab": {
      "provenance": []
    },
    "kernelspec": {
      "name": "python3",
      "display_name": "Python 3"
    },
    "language_info": {
      "name": "python"
    }
  },
  "cells": [
    {
      "cell_type": "code",
      "source": [
        "def merge(num1,m,num2,n):\n",
        "    i = 0\n",
        "    num3 = []\n",
        "    while(i < m):\n",
        "        num3.append(num1[i])\n",
        "        i += 1\n",
        "    j = 0\n",
        "    while(j < n):\n",
        "        num3.append(num2[j])\n",
        "        j += 1\n",
        "    \n",
        "    return num3\n",
        "\n",
        "num1 = list(map(int,input().strip().split()))\n",
        "#num1 = int(input(list))\n",
        "m = int(input())\n",
        "num2 = list(map(int,input().strip().split()))\n",
        "n = int(input())\n",
        "\n",
        "num3 = merge(num1,m,num2,n)\n",
        "num1 = sorted(num3)\n",
        "#print(num3)\n",
        "print(num1)\n"
      ],
      "metadata": {
        "colab": {
          "base_uri": "https://localhost:8080/"
        },
        "id": "rJcfh8UxLMav",
        "outputId": "fcb01fde-6e96-421b-da1d-3843d4981e84"
      },
      "execution_count": 1,
      "outputs": [
        {
          "output_type": "stream",
          "name": "stdout",
          "text": [
            "1 2 3 0 0 0\n",
            "3\n",
            "2 5 6\n",
            "3\n",
            "[1, 2, 2, 3, 5, 6]\n"
          ]
        }
      ]
    }
  ]
}