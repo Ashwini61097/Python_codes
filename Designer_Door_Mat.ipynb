{
 "cells": [
  {
   "cell_type": "code",
   "execution_count": 1,
   "id": "c505bad6",
   "metadata": {},
   "outputs": [],
   "source": [
    "# Import librries\n",
    "\n",
    "import pandas as pd\n",
    "import numpy as np"
   ]
  },
  {
   "cell_type": "markdown",
   "id": "e5aabcae",
   "metadata": {},
   "source": [
    "####  Example:- Size: 7 x 21 "
   ]
  },
  {
   "cell_type": "raw",
   "id": "d78eff0b",
   "metadata": {},
   "source": [
    "---------.|.---------\n",
    "------.|..|..|.------\n",
    "---.|..|..|..|..|.---\n",
    "-------WELCOME-------\n",
    "---.|..|..|..|..|.---\n",
    "------.|..|..|.------\n",
    "---------.|.---------"
   ]
  },
  {
   "cell_type": "code",
   "execution_count": 2,
   "id": "18416450",
   "metadata": {},
   "outputs": [
    {
     "name": "stdout",
     "output_type": "stream",
     "text": [
      "7 21\n",
      "---------.|.---------\n",
      "------.|..|..|.------\n",
      "---.|..|..|..|..|.---\n",
      "-------WELCOME-------\n",
      "---.|..|..|..|..|.---\n",
      "------.|..|..|.------\n",
      "---------.|.---------\n"
     ]
    }
   ],
   "source": [
    "N, M = map(int, input().split())\n",
    "\n",
    "ptrn = '.|.'\n",
    "gap = '-'\n",
    "\n",
    "ptrn_range = range(1, N, 2)\n",
    "for rep in ptrn_range:\n",
    "    print((ptrn*rep).center(M, gap))\n",
    "print(\"WELCOME\".center(M, gap))\n",
    "for rep in reversed(ptrn_range):\n",
    "    print((ptrn * rep).center(M, gap))"
   ]
  },
  {
   "cell_type": "code",
   "execution_count": null,
   "id": "24f9d999",
   "metadata": {},
   "outputs": [],
   "source": []
  }
 ],
 "metadata": {
  "kernelspec": {
   "display_name": "Python 3 (ipykernel)",
   "language": "python",
   "name": "python3"
  },
  "language_info": {
   "codemirror_mode": {
    "name": "ipython",
    "version": 3
   },
   "file_extension": ".py",
   "mimetype": "text/x-python",
   "name": "python",
   "nbconvert_exporter": "python",
   "pygments_lexer": "ipython3",
   "version": "3.10.9"
  }
 },
 "nbformat": 4,
 "nbformat_minor": 5
}
