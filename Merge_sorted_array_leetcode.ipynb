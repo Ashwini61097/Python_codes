{
  "nbformat": 4,
  "nbformat_minor": 0,
  "metadata": {
    "colab": {
      "provenance": []
    },
    "kernelspec": {
      "name": "python3",
      "display_name": "Python 3"
    },
    "language_info": {
      "name": "python"
    }
  },
  "cells": [
    {
      "cell_type": "code",
      "source": [
        "class Solution:\n",
        "    def merge(self, nums1: List[int], m: int, nums2: List[int], n: int) -> None:\n",
        "        \"\"\"\n",
        "        Do not return anything, modify nums1 in-place instead.\n",
        "        \"\"\"\n",
        "        \n",
        "        p1=m-1\n",
        "        p2=n-1\n",
        "        p=m+n-1\n",
        "\n",
        "        while p1 >= 0 and p2 >= 0:\n",
        "            if nums1[p1] < nums2[p2]:\n",
        "                nums1[p]=nums2[p2]\n",
        "                p2-=1\n",
        "            else:\n",
        "                nums1[p]=nums1[p1]\n",
        "                p1-=1\n",
        "            p-=1\n",
        "        while p1 >=0:\n",
        "            nums1[p]=nums1[p1]\n",
        "            p1-=1\n",
        "            p-=1\n",
        "        while p2 >=0:\n",
        "            nums1[p]=nums2[p2]\n",
        "            p2-=1\n",
        "            p-=1\n",
        "        print(nums1)    \n"
      ],
      "metadata": {
        "id": "xNsLYOaIjWTU"
      },
      "execution_count": null,
      "outputs": []
    }
  ]
}