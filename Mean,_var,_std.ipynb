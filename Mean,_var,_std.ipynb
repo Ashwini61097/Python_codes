{
  "nbformat": 4,
  "nbformat_minor": 0,
  "metadata": {
    "colab": {
      "provenance": []
    },
    "kernelspec": {
      "name": "python3",
      "display_name": "Python 3"
    },
    "language_info": {
      "name": "python"
    }
  },
  "cells": [
    {
      "cell_type": "markdown",
      "source": [
        "# **Task**:\n",
        "\n",
        "You are given a 2-D array of size N X M.\n",
        "\n",
        "Your task is to find:\n",
        "\n",
        "1. The mean along axis 1\n",
        "2. The var along axis 0\n",
        "3. The std along axis None"
      ],
      "metadata": {
        "id": "V_EJJJvaT-9k"
      }
    },
    {
      "cell_type": "code",
      "source": [
        "import numpy\n",
        "\n",
        "N, M = map(int, input().split())\n",
        "\n",
        "my_array = [list(map(int, input().split())) for _ in range(N)]\n",
        "#print(my_array)\n",
        "\n",
        "\n",
        "print(numpy.mean(my_array, axis = 1))\n",
        "\n",
        "print(numpy.var(my_array, axis = 0))\n",
        "\n",
        "print(round(numpy.std(my_array, axis = None), 11)) \n"
      ],
      "metadata": {
        "colab": {
          "base_uri": "https://localhost:8080/"
        },
        "id": "K92Emyr5w1E6",
        "outputId": "5515be7e-41ee-4137-a1aa-1e8059ad47f3"
      },
      "execution_count": null,
      "outputs": [
        {
          "output_type": "stream",
          "name": "stdout",
          "text": [
            "2 2\n",
            "1 2\n",
            "3 4\n",
            "[1.5 3.5]\n",
            "[1. 1.]\n",
            "1.11803398875\n"
          ]
        }
      ]
    }
  ]
}