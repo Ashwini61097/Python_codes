{
  "nbformat": 4,
  "nbformat_minor": 0,
  "metadata": {
    "colab": {
      "provenance": []
    },
    "kernelspec": {
      "name": "python3",
      "display_name": "Python 3"
    },
    "language_info": {
      "name": "python"
    }
  },
  "cells": [
    {
      "cell_type": "markdown",
      "source": [
        "**Task**:\n",
        "\n",
        "You are given a positive integer N. Print a numerical triangle of height N - 1 like one below.\n",
        "1\n",
        "22\n",
        "333\n",
        "4444\n",
        "55555\n",
        "\n",
        "**Note**: Using anything related to strings will give a score of 0. "
      ],
      "metadata": {
        "id": "UeK4czbYFPNl"
      }
    },
    {
      "cell_type": "code",
      "source": [
        "for i in range(1,int(input())):#More than 2 lines will result in 0 score. Do not leave a blank line also\n",
        "    print(i*((10**i -1)//9))"
      ],
      "metadata": {
        "colab": {
          "base_uri": "https://localhost:8080/"
        },
        "id": "eesQ_tqhF9qU",
        "outputId": "04e7a138-c63e-4019-e2b2-ec43b377e341"
      },
      "execution_count": 10,
      "outputs": [
        {
          "output_type": "stream",
          "name": "stdout",
          "text": [
            "5\n",
            "1\n",
            "22\n",
            "333\n",
            "4444\n"
          ]
        }
      ]
    }
  ]
}