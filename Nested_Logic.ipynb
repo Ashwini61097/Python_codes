{
  "nbformat": 4,
  "nbformat_minor": 0,
  "metadata": {
    "colab": {
      "provenance": []
    },
    "kernelspec": {
      "name": "python3",
      "display_name": "Python 3"
    },
    "language_info": {
      "name": "python"
    }
  },
  "cells": [
    {
      "cell_type": "markdown",
      "source": [
        "**Task**:\n",
        "\n",
        "\n",
        "Your local library needs your help! Given the expected and actual return dates for a library book, create a program that calculates the fine (if any). The fee structure is as follows:\n",
        "\n",
        "1. If the book is returned on or before the expected return date, no fine will be charged (i.e.:fine = 0).\n",
        "2. If the book is returned after the expected return day but still within the same calendar month and year as the expected return date, \n",
        "fine = 15 Hackos * (number of days late).\n",
        "3. If the book is returned after the expected return month but still within the same calendar year as the expected return date, the\n",
        "fine = 500 Hackos * (the number of months late).\n",
        "\n",
        "4. If the book is returned after the calendar year in which it was expected, there is a fixed fine of 10000 Hackos."
      ],
      "metadata": {
        "id": "V_EJJJvaT-9k"
      }
    },
    {
      "cell_type": "code",
      "source": [
        "import datetime\n",
        "\n",
        "d1, m1, y1 = (input()).split()\n",
        "d2, m2, y2 = (input()).split()\n",
        "\n",
        "\n",
        "dt_n = datetime.datetime(int(y1), int(m1), int(d1))\n",
        "dt_t = datetime.datetime(int(y2), int(m2), int(d2))\n",
        "\n",
        "result = 0\n",
        "#print(dt_n)\n",
        "#print(dt_t)\n",
        "\n",
        "if dt_n < dt_t:\n",
        "    result += 0\n",
        "    \n",
        "elif (m1 == m2 and y1 == y2):\n",
        "    result += (int(d1) - int(d2)) * 15\n",
        "    \n",
        "elif (m1 != m2 and y1 == y2):\n",
        "    result += (int(m1) - int(m2)) * 500\n",
        "    \n",
        "elif (dt_n.year > dt_t.year):\n",
        "    result += 10000\n",
        "    \n",
        "print(result)\n"
      ],
      "metadata": {
        "colab": {
          "base_uri": "https://localhost:8080/"
        },
        "id": "tp-v9pGaU601",
        "outputId": "be652416-7213-47b4-890c-83b91d89957a"
      },
      "execution_count": 2,
      "outputs": [
        {
          "output_type": "stream",
          "name": "stdout",
          "text": [
            "9 6 2015\n",
            "6 6 2015\n",
            "45\n"
          ]
        }
      ]
    }
  ]
}