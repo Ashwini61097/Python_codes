{
  "nbformat": 4,
  "nbformat_minor": 0,
  "metadata": {
    "colab": {
      "provenance": []
    },
    "kernelspec": {
      "name": "python3",
      "display_name": "Python 3"
    },
    "language_info": {
      "name": "python"
    }
  },
  "cells": [
    {
      "cell_type": "markdown",
      "source": [
        "Task:\n",
        "\n",
        "Given an integer, n, perform the following conditional actions:\n",
        "\n",
        "1. If n is odd, print Weird\n",
        "2. If n is even and in the inclusive range of 2 to 5, print Not Weird\n",
        "3. If n is even and in the inclusive range of 6 to 20, print Weird\n",
        "4. If n is even and greater than 20, print Not Weird"
      ],
      "metadata": {
        "id": "aEOxCqwUxYFx"
      }
    },
    {
      "cell_type": "code",
      "source": [
        "#!/bin/python3\n",
        "\n",
        "import math\n",
        "import os\n",
        "import random\n",
        "import re\n",
        "import sys\n",
        "\n",
        "\n",
        "\n",
        "if __name__ == '__main__':\n",
        "    n = int(input().strip())\n",
        "if(n>0 and n<101):\n",
        "    if(n%2 != 0):\n",
        "        print(\"Weird\")\n",
        "    if(n%2 == 0 and n>1 and n<6):\n",
        "        print(\"Not Weird\")\n",
        "    if(n%2 == 0 and n>5 and n<21):\n",
        "        print(\"Weird\")\n",
        "    if(n%2 == 0 and n>21):\n",
        "        print(\"Not Weird\")"
      ],
      "metadata": {
        "colab": {
          "base_uri": "https://localhost:8080/"
        },
        "id": "Gp8zY6DhyNIu",
        "outputId": "615f24a6-e3b5-4646-b012-79bd009357fe"
      },
      "execution_count": 6,
      "outputs": [
        {
          "output_type": "stream",
          "name": "stdout",
          "text": [
            "3\n",
            "Weird\n"
          ]
        }
      ]
    }
  ]
}