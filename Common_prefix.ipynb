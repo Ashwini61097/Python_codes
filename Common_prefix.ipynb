{
  "nbformat": 4,
  "nbformat_minor": 0,
  "metadata": {
    "colab": {
      "provenance": []
    },
    "kernelspec": {
      "name": "python3",
      "display_name": "Python 3"
    },
    "language_info": {
      "name": "python"
    }
  },
  "cells": [
    {
      "cell_type": "code",
      "execution_count": 5,
      "metadata": {
        "id": "PFiTJir1bQcU",
        "colab": {
          "base_uri": "https://localhost:8080/"
        },
        "outputId": "b574897c-14fe-4b2b-c8d7-3021c2259567"
      },
      "outputs": [
        {
          "output_type": "stream",
          "name": "stdout",
          "text": [
            "common prefix: fl\n"
          ]
        }
      ],
      "source": [
        "list1 = [\"flower\", \"flow\", \"flight\", \"flew\"]\n",
        "list1.sort()\n",
        "left, right = list1[0], list1[-1]\n",
        "i = 0\n",
        "while i < len(left) and i < len(right):\n",
        "  if left[i] != right[i]:\n",
        "    break\n",
        "  i+=1\n",
        "if(i>0):\n",
        "  print(f\"common prefix: {left[:i]}\")\n",
        "else:\n",
        "  print(f\"common prefix: \")"
      ]
    }
  ]
}