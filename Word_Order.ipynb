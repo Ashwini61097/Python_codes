{
 "cells": [
  {
   "cell_type": "markdown",
   "id": "493c032a",
   "metadata": {},
   "source": [
    "You are given n words. Some words may repeat. For each word, output its number of occurrences. The output order should correspond with the input order of appearance of the word. See the sample input/output for clarification.\n",
    "\n",
    "Note: Each input line ends with a \"\\n\" character.\n",
    "\n",
    "Constraints:\n",
    "    \n",
    "1 <= n <= 10^5\n",
    "\n",
    "The sum of the lengths of all the words do not exceed 10^6\n",
    "\n",
    "\n",
    "All the words are composed of lowercase English letters only.\n",
    "\n",
    "Input Format\n",
    "\n",
    "The first line contains the integer, n.\n",
    "The next n lines each contain a word.\n",
    "\n",
    "Output Format\n",
    "\n",
    "Output 2 lines.\n",
    "On the first line, output the number of distinct words from the input.\n",
    "On the second line, output the number of occurrences for each distinct word according to their appearance in the input."
   ]
  },
  {
   "cell_type": "code",
   "execution_count": 13,
   "id": "27fa87af",
   "metadata": {},
   "outputs": [
    {
     "name": "stdout",
     "output_type": "stream",
     "text": [
      "no. of inputs: 5\n",
      "Enter the word: abcd\n",
      "Enter the word: abc\n",
      "Enter the word: abcdf\n",
      "Enter the word: abc\n",
      "Enter the word: abcd\n",
      "['abcd', 'abc', 'abcdf', 'abc', 'abcd']\n",
      "3\n",
      "['abcd', 'abc', 'abcdf']\n",
      "2 2 1\n"
     ]
    }
   ],
   "source": [
    "def unique(list1):\n",
    " \n",
    "    # initialize a null list\n",
    "    unique_list = []\n",
    " \n",
    "    # traverse for all elements\n",
    "    for x in list1:\n",
    "        # check if exists in unique_list or not\n",
    "        if x not in unique_list:\n",
    "            unique_list.append(x)\n",
    "    # print list\n",
    "    #for x in unique_list:\n",
    "        #print(x)\n",
    "    \n",
    "    return(unique_list)\n",
    "\n",
    "\n",
    "n = int(input(\"no. of inputs: \"))\n",
    "'''\n",
    "w = []\n",
    "for i in range(n):\n",
    "    word = input(\"enter the word: \")\n",
    "    w.append(word)\n",
    "'''\n",
    "\n",
    "# Below line read inputs from user using map() function\n",
    "w = [input(\"Enter the word: \") for _ in range(n)]\n",
    "\n",
    "print(w)\n",
    "\n",
    "distinct_w_count = len(unique(w))\n",
    "print(distinct_w_count)\n",
    "\n",
    "distinct_w = unique(w)\n",
    "print(distinct_w)\n",
    "\n",
    "c = []\n",
    "for i in distinct_w:\n",
    "    count = 0\n",
    "    for j in w:\n",
    "        if(i == j):\n",
    "            count += 1\n",
    "    c.append(count)\n",
    "#print(count)\n",
    "#print(c)\n",
    "print(*c)\n"
   ]
  },
  {
   "cell_type": "markdown",
   "id": "10ccef4f",
   "metadata": {},
   "source": [
    "## HackerRank code"
   ]
  },
  {
   "cell_type": "code",
   "execution_count": 15,
   "id": "65091ed7",
   "metadata": {},
   "outputs": [],
   "source": [
    "from collections import Counter\n",
    "\n",
    "n =  int(input())\n",
    "words = []\n",
    "for i in range(n):\n",
    "    words.append(input())\n",
    "\n",
    "counts = Counter(words)\n",
    "\n",
    "print(len(counts.keys()))\n",
    "\n",
    "for i,j in counts.items():\n",
    "    print(j, end = \" \")"
   ]
  },
  {
   "cell_type": "markdown",
   "id": "92a01c45",
   "metadata": {},
   "source": [
    "## Counter class from the collections module"
   ]
  },
  {
   "cell_type": "raw",
   "id": "c1024c1a",
   "metadata": {},
   "source": [
    "from collections import Counter\n",
    "\n",
    "list1 = [...]  # your original list\n",
    "counter = Counter(list1)\n",
    "\n",
    "# Access the count of a specific element\n",
    "count_of_element = counter[element]\n",
    "\n",
    "# Get the unique elements\n",
    "unique_elements = list(counter.keys())\n",
    "\n",
    "# Get the counts of all elements\n",
    "counts = list(counter.values())\n"
   ]
  }
 ],
 "metadata": {
  "kernelspec": {
   "display_name": "Python 3 (ipykernel)",
   "language": "python",
   "name": "python3"
  },
  "language_info": {
   "codemirror_mode": {
    "name": "ipython",
    "version": 3
   },
   "file_extension": ".py",
   "mimetype": "text/x-python",
   "name": "python",
   "nbconvert_exporter": "python",
   "pygments_lexer": "ipython3",
   "version": "3.10.9"
  }
 },
 "nbformat": 4,
 "nbformat_minor": 5
}
